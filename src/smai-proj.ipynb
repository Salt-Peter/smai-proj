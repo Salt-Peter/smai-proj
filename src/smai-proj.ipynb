{
 "cells": [
  {
   "cell_type": "markdown",
   "metadata": {},
   "source": [
    "# Import libraries"
   ]
  },
  {
   "cell_type": "code",
   "execution_count": 1,
   "metadata": {
    "_cell_guid": "b1076dfc-b9ad-4769-8c92-a6c4dae69d19",
    "_kg_hide-input": false,
    "_uuid": "8f2839f25d086af736a60e9eeb907d3b93b6e0e5"
   },
   "outputs": [
    {
     "name": "stdout",
     "output_type": "stream",
     "text": [
      "['yoochoose-data']\n"
     ]
    }
   ],
   "source": [
    "import numpy as np\n",
    "import pandas as pd\n",
    "\n",
    "import os\n",
    "print(os.listdir(\"../input\"))"
   ]
  },
  {
   "cell_type": "markdown",
   "metadata": {},
   "source": [
    "# Load training datasets"
   ]
  },
  {
   "cell_type": "code",
   "execution_count": null,
   "metadata": {
    "_cell_guid": "79c7e3d0-c299-4dcb-8224-4455121ee9b0",
    "_kg_hide-input": false,
    "_kg_hide-output": false,
    "_uuid": "d629ff2d2480ee46fbb7e2d37f6b5fab8052498a"
   },
   "outputs": [
    {
     "data": {
      "text/plain": [
       "'Clicks Data'"
      ]
     },
     "metadata": {},
     "output_type": "display_data"
    },
    {
     "data": {
      "text/html": [
       "<div>\n",
       "<style scoped>\n",
       "    .dataframe tbody tr th:only-of-type {\n",
       "        vertical-align: middle;\n",
       "    }\n",
       "\n",
       "    .dataframe tbody tr th {\n",
       "        vertical-align: top;\n",
       "    }\n",
       "\n",
       "    .dataframe thead th {\n",
       "        text-align: right;\n",
       "    }\n",
       "</style>\n",
       "<table border=\"1\" class=\"dataframe\">\n",
       "  <thead>\n",
       "    <tr style=\"text-align: right;\">\n",
       "      <th></th>\n",
       "      <th>session_id</th>\n",
       "      <th>timestamp</th>\n",
       "      <th>item_id</th>\n",
       "      <th>category</th>\n",
       "    </tr>\n",
       "  </thead>\n",
       "  <tbody>\n",
       "    <tr>\n",
       "      <th>0</th>\n",
       "      <td>1</td>\n",
       "      <td>2014-04-07T10:51:09.277Z</td>\n",
       "      <td>214536502</td>\n",
       "      <td>0</td>\n",
       "    </tr>\n",
       "    <tr>\n",
       "      <th>1</th>\n",
       "      <td>1</td>\n",
       "      <td>2014-04-07T10:54:09.868Z</td>\n",
       "      <td>214536500</td>\n",
       "      <td>0</td>\n",
       "    </tr>\n",
       "    <tr>\n",
       "      <th>2</th>\n",
       "      <td>1</td>\n",
       "      <td>2014-04-07T10:54:46.998Z</td>\n",
       "      <td>214536506</td>\n",
       "      <td>0</td>\n",
       "    </tr>\n",
       "    <tr>\n",
       "      <th>3</th>\n",
       "      <td>1</td>\n",
       "      <td>2014-04-07T10:57:00.306Z</td>\n",
       "      <td>214577561</td>\n",
       "      <td>0</td>\n",
       "    </tr>\n",
       "    <tr>\n",
       "      <th>4</th>\n",
       "      <td>2</td>\n",
       "      <td>2014-04-07T13:56:37.614Z</td>\n",
       "      <td>214662742</td>\n",
       "      <td>0</td>\n",
       "    </tr>\n",
       "  </tbody>\n",
       "</table>\n",
       "</div>"
      ],
      "text/plain": [
       "   session_id                 timestamp    item_id category\n",
       "0           1  2014-04-07T10:51:09.277Z  214536502        0\n",
       "1           1  2014-04-07T10:54:09.868Z  214536500        0\n",
       "2           1  2014-04-07T10:54:46.998Z  214536506        0\n",
       "3           1  2014-04-07T10:57:00.306Z  214577561        0\n",
       "4           2  2014-04-07T13:56:37.614Z  214662742        0"
      ]
     },
     "metadata": {},
     "output_type": "display_data"
    }
   ],
   "source": [
    "date_format = '%Y-%m-%dT%H:%M:%S.%fZ'\n",
    "\n",
    "# TODO: read timestamp as pandas.Timestamp object\n",
    "\n",
    "# Load Datasets\n",
    "clicks_df=pd.read_csv('../input/yoochoose-data/yoochoose-clicks.dat',\n",
    "                      names=['session_id','timestamp','item_id','category'],\n",
    "                      dtype={'category': str})\n",
    "\n",
    "display(\"Clicks Data\",)\n",
    "display(clicks_df.head())\n",
    "\n",
    "buys_df = pd.read_csv('../input/yoochoose-data/yoochoose-buys.dat', \n",
    "                      names=['session_id', 'timestamp', 'item_id', 'price', 'quantity'],\n",
    "                      )\n",
    "\n",
    "display(\"Buys Data\",)\n",
    "display(buys_df.head())"
   ]
  },
  {
   "cell_type": "markdown",
   "metadata": {},
   "source": [
    "# Understanding category column"
   ]
  },
  {
   "cell_type": "code",
   "execution_count": null,
   "metadata": {
    "_kg_hide-input": false
   },
   "outputs": [],
   "source": [
    "# Category – the context of the click. \n",
    "# The value \"S\" indicates a special offer,\n",
    "# \"0\" indicates  a missing value, \n",
    "# a number between 1 to 12 indicates a real category identifier,\n",
    "# any other number indicates a brand.\n",
    "#   - if an item has been clicked in the context of a special offer then the value will be \"S\", \n",
    "#   - if the context was a brand \n",
    "#              eg. BOSCH, then the value will be an 8-10 digits number.\n",
    "#   - If the item has been clicked under regular category, \n",
    "#              eg. sport, then the value will be a number between 1 to 12. "
   ]
  },
  {
   "cell_type": "markdown",
   "metadata": {},
   "source": [
    "## Inpect missing values"
   ]
  },
  {
   "cell_type": "code",
   "execution_count": null,
   "metadata": {
    "_kg_hide-input": false
   },
   "outputs": [],
   "source": [
    "# Clicks data has some missing values for category\n",
    "# clicks_df[clicks_df.category==0].head()\n",
    "print(\"Number of items with missing category info:\", \n",
    "      len(np.unique(clicks_df[clicks_df.category==\"0\"].item_id)))\n",
    "\n",
    "# Buys data has some missing values for price AND quantity\n",
    "# buys_df[buys_df.price==0].head()\n",
    "print(\"Number of missing price and qty entries in buys data:\", \n",
    "      len(buys_df[buys_df.price==0]), len(buys_df[buys_df.quantity==0]))\n"
   ]
  },
  {
   "cell_type": "markdown",
   "metadata": {},
   "source": [
    "# Some important numbers"
   ]
  },
  {
   "cell_type": "code",
   "execution_count": null,
   "metadata": {
    "_kg_hide-input": false
   },
   "outputs": [],
   "source": [
    "print(\"The training dataset has\", len(clicks_df), \"clicks\", \n",
    "      \"from\", len(np.unique(clicks_df.session_id)), \"sessions\")\n",
    "print(\"There are \",len(buys_df), \"purchases\", \n",
    "      \"from\", len(np.unique(buys_df.session_id)), \"sessions\\n\",\n",
    "      \"involving\", len(np.unique(buys_df.item_id)), \"unique items\",\n",
    "      \"out of\", len(np.unique(clicks_df.item_id)), \"items in the whole training set.\")\n",
    "\n",
    "print(\"\\nThis means that the sessions with/without purchases are highly imbalanced.\")\n",
    "print(\"Number of sessions with purchases\", len(np.unique(buys_df.session_id)))\n",
    "print(\"Number of sessions without purchases\", len(np.unique(clicks_df.session_id)) - len(np.unique(buys_df.session_id)))\n",
    "print(\"Difference:\", len(np.unique(clicks_df.session_id)) - 2 * len(np.unique(buys_df.session_id)))"
   ]
  },
  {
   "cell_type": "markdown",
   "metadata": {},
   "source": [
    "# EDA"
   ]
  },
  {
   "cell_type": "code",
   "execution_count": null,
   "metadata": {
    "_kg_hide-input": false
   },
   "outputs": [],
   "source": []
  },
  {
   "cell_type": "markdown",
   "metadata": {},
   "source": [
    "# Feature engineering\n",
    "\n",
    "We need to extract features for 2 classifiers:\n",
    "- Buy or not buy ? (Binary)\n",
    "- What to buy ? (Multilabel)"
   ]
  },
  {
   "cell_type": "markdown",
   "metadata": {},
   "source": [
    "# Random Forest Model"
   ]
  },
  {
   "cell_type": "code",
   "execution_count": null,
   "metadata": {},
   "outputs": [],
   "source": [
    "from sklearn.ensemble import RandomForestClassifier"
   ]
  },
  {
   "cell_type": "code",
   "execution_count": null,
   "metadata": {},
   "outputs": [],
   "source": [
    "# temporary\n",
    "clicks_df['buy'] = 0\n",
    "buys_df['buy'] = 1\n",
    "\n",
    "union_df = pd.concat([clicks_df, buys_df], ignore_index=True, sort=True).sort_values(by=['session_id','item_id'])\n",
    "union_df['category'] = union_df['category'].fillna(method='ffill')\n",
    "union_df.head()\n",
    "union_df.info()"
   ]
  },
  {
   "cell_type": "code",
   "execution_count": null,
   "metadata": {},
   "outputs": [],
   "source": [
    "from sklearn.model_selection import train_test_split\n",
    "\n",
    "# TODO: one-hot encode categorical features\n",
    "# for col in union_df.dtypes[union_df.dtypes == 'object'].index:\n",
    "#     for_dummy = union_df.pop(col)\n",
    "#     union_df = pd.concat([union_df, pd.get_dummies(for_dummy, prefix=col)], axis=1)\n",
    "\n",
    "# FIXME: using sparse=TRUE prevents MEMORY ERROR. find RCA???\n",
    "# one_hot = pd.get_dummies(union_df['category'], sparse=True)\n",
    "# union_df = union_df.drop('category', axis=1)\n",
    "# union_df = union_df.join(one_hot)\n",
    "\n",
    "X = union_df.drop(['buy'], axis=1)\n",
    "y = union_df[['buy']]\n",
    "x_train, x_test, y_train, y_test = train_test_split(X, y, test_size=0.25)\n",
    "x_train.shape, x_test.shape, y_train.shape, y_test.shape"
   ]
  },
  {
   "cell_type": "code",
   "execution_count": null,
   "metadata": {},
   "outputs": [],
   "source": [
    "from sklearn.ensemble import RandomForestClassifier\n",
    "rf = RandomForestClassifier()\n",
    "rf.fit(x_train, y_train)\n",
    "\n",
    "y_pred = rf.predict(x_test)\n"
   ]
  }
 ],
 "metadata": {
  "kernelspec": {
   "display_name": "Python 3",
   "language": "python",
   "name": "python3"
  },
  "language_info": {
   "codemirror_mode": {
    "name": "ipython",
    "version": 3
   },
   "file_extension": ".py",
   "mimetype": "text/x-python",
   "name": "python",
   "nbconvert_exporter": "python",
   "pygments_lexer": "ipython3",
   "version": "3.7.1"
  }
 },
 "nbformat": 4,
 "nbformat_minor": 1
}
