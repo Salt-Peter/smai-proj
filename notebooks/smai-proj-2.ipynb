{
 "cells": [
  {
   "cell_type": "code",
   "execution_count": null,
   "metadata": {},
   "outputs": [],
   "source": [
    "import pandas as pd\n",
    "import numpy as np\n",
    "import random\n",
    "from datetime import datetime, date"
   ]
  },
  {
   "cell_type": "code",
   "execution_count": null,
   "metadata": {},
   "outputs": [],
   "source": [
    "buys = pd.read_csv('../input/yoochoose-buys.dat', header=None)\n",
    "# clicks_data = pd.read_csv('yoochoose-data/yoochoose-clicks.dat', header=None)"
   ]
  },
  {
   "cell_type": "code",
   "execution_count": null,
   "metadata": {},
   "outputs": [],
   "source": [
    "buys.columns = ['session', 'timestamp', 'item', 'price', 'quantity']\n",
    "# clicks_data.columns = ['session', 'timestamp', 'item', 'category']"
   ]
  },
  {
   "cell_type": "code",
   "execution_count": null,
   "metadata": {},
   "outputs": [],
   "source": [
    "click_bought = pd.read_csv('../input/bought.csv', dtype = { 'session':int,\n",
    "                                                'timestamp':str,\n",
    "                                                'item':int,\n",
    "                                                'category':str}\n",
    "                )"
   ]
  },
  {
   "cell_type": "code",
   "execution_count": null,
   "metadata": {},
   "outputs": [],
   "source": [
    "time_format = '%H:%M:%S'"
   ]
  },
  {
   "cell_type": "code",
   "execution_count": null,
   "metadata": {},
   "outputs": [],
   "source": [
    "def read_time_stamp(time):\n",
    "    date,time = time.split('T')\n",
    "    yy, mm, dd = date.split('-')\n",
    "    time = time[:-1]\n",
    "    h, m, s = time.split(':')\n",
    "    return {'dd':dd,\n",
    "            'mm':mm,\n",
    "            'yy':yy,\n",
    "            'h':h,\n",
    "            'm':m,\n",
    "            's':s.split('.')[0],\n",
    "            'date':date,\n",
    "            'time':time.split('.')[0]\n",
    "           }"
   ]
  },
  {
   "cell_type": "code",
   "execution_count": null,
   "metadata": {},
   "outputs": [],
   "source": [
    "def time_diff_secs(start, end):\n",
    "    tdelta = datetime.strptime(end, time_format) - datetime.strptime(start, time_format)\n",
    "    return tdelta.seconds"
   ]
  },
  {
   "cell_type": "code",
   "execution_count": null,
   "metadata": {},
   "outputs": [],
   "source": [
    "b_sessions = sorted(list(buys['session'].unique())) # all bought sessions\n",
    "items = buys['item']\n",
    "click_items = click_bought['item']\n",
    "q_vals = buys[['item','quantity']].values\n",
    "s_items = buys[['session','item']].values"
   ]
  },
  {
   "cell_type": "code",
   "execution_count": null,
   "metadata": {},
   "outputs": [],
   "source": [
    "clicks = {}\n",
    "quantity = {}\n",
    "buy_count = {}\n",
    "popularity = {}\n",
    "session_item = {}"
   ]
  },
  {
   "cell_type": "code",
   "execution_count": null,
   "metadata": {},
   "outputs": [],
   "source": [
    "for session in b_sessions:\n",
    "    session_item[session] = []"
   ]
  },
  {
   "cell_type": "code",
   "execution_count": null,
   "metadata": {},
   "outputs": [],
   "source": [
    "for si in s_items:\n",
    "    session_item[si[0]].append(si[1])"
   ]
  },
  {
   "cell_type": "code",
   "execution_count": null,
   "metadata": {},
   "outputs": [],
   "source": [
    "for item in items:\n",
    "    clicks[item]=0\n",
    "    quantity[item]=0\n",
    "    buy_count[item]=0"
   ]
  },
  {
   "cell_type": "code",
   "execution_count": null,
   "metadata": {},
   "outputs": [],
   "source": [
    "for item in click_items:\n",
    "    try:\n",
    "        clicks[item]+=1\n",
    "    except:\n",
    "        pass"
   ]
  },
  {
   "cell_type": "code",
   "execution_count": null,
   "metadata": {},
   "outputs": [],
   "source": [
    "for ll in q_vals:\n",
    "    quantity[ll[0]]+=ll[1]\n",
    "    buy_count[ll[0]]+=1"
   ]
  },
  {
   "cell_type": "code",
   "execution_count": null,
   "metadata": {},
   "outputs": [],
   "source": [
    "for item in items:\n",
    "    try:\n",
    "        popularity[item]=float(\"{0:.2f}\".format(buy_count[item]/clicks[item],2))\n",
    "    except:\n",
    "        popularity[item]=0.00"
   ]
  },
  {
   "cell_type": "code",
   "execution_count": null,
   "metadata": {},
   "outputs": [],
   "source": [
    "item_data = []"
   ]
  },
  {
   "cell_type": "code",
   "execution_count": null,
   "metadata": {},
   "outputs": [],
   "source": [
    "for item in items:\n",
    "    total_clicks = clicks[item]\n",
    "    quant = quantity[item]\n",
    "    buy = buy_count[item]\n",
    "    pop = popularity[item]\n",
    "    item_data.append([item, total_clicks, quant, buy, pop])"
   ]
  },
  {
   "cell_type": "code",
   "execution_count": null,
   "metadata": {},
   "outputs": [],
   "source": [
    "item_df = pd.DataFrame(item_data)"
   ]
  },
  {
   "cell_type": "code",
   "execution_count": null,
   "metadata": {},
   "outputs": [],
   "source": [
    "item_df.columns = ['item', 'total_clicks', 'quantity_sold', 'buys', 'popularity']"
   ]
  },
  {
   "cell_type": "markdown",
   "metadata": {},
   "source": [
    "### click sessions in which items were bought"
   ]
  },
  {
   "cell_type": "code",
   "execution_count": null,
   "metadata": {},
   "outputs": [],
   "source": [
    "session_data = []\n",
    "time_bias = 2\n",
    "for bb in b_sessions:\n",
    "    # bb = b_sessions[100]\n",
    "    bs = buys[buys['session']==bb] # buys DF in a particular session\n",
    "    cbs = click_bought[click_bought['session']==bb] # clicks DF in a particular session\n",
    "    its = set(cbs['item']) # items clicked in a particular session\n",
    "    b_its = set(bs['item']) # items bought in a particular sessions\n",
    "\n",
    "    # ==========overall session feature extraction==========\n",
    "    # number of clicks\n",
    "    n_clicks = len(cbs)\n",
    "    time = []\n",
    "    date_var = []\n",
    "    # time spent on each item in this session\n",
    "    it_time = {}\n",
    "    for it in its:\n",
    "        it_time[it] = 0\n",
    "    it_time[cbs.iloc[0]['item']]=time_bias\n",
    "    prev = read_time_stamp(cbs.iloc[0]['timestamp'])['time']\n",
    "    max_time = 0\n",
    "    td = 0\n",
    "    for ind in range(1,len(cbs)):\n",
    "        now = read_time_stamp(cbs.iloc[ind]['timestamp'])['time']\n",
    "        tdd = time_diff_secs(prev, now)\n",
    "        it_time[cbs.iloc[ind]['item']]+= tdd\n",
    "        td += tdd\n",
    "        if tdd > max_time:\n",
    "        # max time spent in this session\n",
    "            max_time = tdd\n",
    "        prev = now\n",
    "    #average time\n",
    "    avg = float(\"{0:.2f}\".format(td/n_clicks,2))\n",
    "\n",
    "    # number of unique categories in session\n",
    "    noc = len(cbs['category'].unique())\n",
    "    # avg. pop score\n",
    "    sum_pop = 0\n",
    "    for it in its:\n",
    "        # sum of pop_scores\n",
    "        try:\n",
    "            sum_pop += popularity[it]\n",
    "        except:\n",
    "            pass\n",
    "    avg_pop_score = sum_pop/len(its)\n",
    "    # number of unique items in this session\n",
    "    n_unique_items = len(its)\n",
    "    # ==========session-item feature extraction==========\n",
    "    for it in its:\n",
    "        it_cbs = cbs[cbs['item']==it]\n",
    "        # day of week of first click in this session\n",
    "        ts = it_cbs.iloc[0]['timestamp']\n",
    "        rdt = read_time_stamp(ts)\n",
    "        f_c_time = rdt['time'] # time of first click in this session\n",
    "        f_dw = date(int(rdt['yy']),int(rdt['mm']),int(rdt['dd'])).weekday()\n",
    "        # day of week of last click in this session\n",
    "        ts = it_cbs.iloc[-1]['timestamp']\n",
    "        rdt = read_time_stamp(ts)\n",
    "        l_c_time = rdt['time'] # time of last click in this session\n",
    "        l_dw = date(int(rdt['yy']),int(rdt['mm']),int(rdt['dd'])).weekday()\n",
    "        # Number of clicks in this item\n",
    "        n_clicks_item = len(it_cbs)\n",
    "        # duration between first click and last click of this item in this session\n",
    "        dur_f_l = time_diff_secs(f_c_time, l_c_time)\n",
    "        if dur_f_l == 0:\n",
    "            dur_f_l = 2\n",
    "        # pop_score\n",
    "        try:\n",
    "            it_pop = popularity[it]\n",
    "        except:\n",
    "            it_pop = 0\n",
    "        # if this item is the first click\n",
    "        if cbs.iloc[0]['item'] == it:\n",
    "            f_click = 1\n",
    "        else:\n",
    "            f_click = 0\n",
    "        # if this item is the last click\n",
    "        if cbs.iloc[-1]['item'] == it:\n",
    "            l_click = 1\n",
    "        else:\n",
    "            l_click = 0\n",
    "        # purchased or not\n",
    "        if it in b_its:\n",
    "            purchased = 1\n",
    "        else:\n",
    "            purchased = 0\n",
    "        session_data.append([bb,it, td, avg, max_time, n_clicks, avg_pop_score, noc,\n",
    "              it_time[it], f_dw, l_dw, n_clicks_item, dur_f_l, f_click, l_click, it_pop,\n",
    "              purchased])\n",
    "\n",
    "session_df = pd.DataFrame(session_data)\n",
    "session_df.columns = ['session', 'item', 'total_time', 'avg.time_clicks', 'max_time',\n",
    "                      'n_clicks', 'avg_pop_score', 'no_of_categories',\n",
    "                      'item_time', 'dow_first', 'dow_last','item_clicks', 'duration_f_l',\n",
    "                      'f_click', 'l_click', 'item_pop',\n",
    "                      'purchased']"
   ]
  },
  {
   "cell_type": "code",
   "execution_count": null,
   "metadata": {},
   "outputs": [],
   "source": [
    "session_df.to_csv('final-bought.csv', index=False)"
   ]
  }
 ],
 "metadata": {
  "kernelspec": {
   "display_name": "Python 3",
   "language": "python",
   "name": "python3"
  },
  "language_info": {
   "codemirror_mode": {
    "name": "ipython",
    "version": 3
   },
   "file_extension": ".py",
   "mimetype": "text/x-python",
   "name": "python",
   "nbconvert_exporter": "python",
   "pygments_lexer": "ipython3",
   "version": "3.7.1"
  }
 },
 "nbformat": 4,
 "nbformat_minor": 1
}
