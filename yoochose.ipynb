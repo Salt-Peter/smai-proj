{
 "cells": [
  {
   "cell_type": "code",
   "execution_count": 29,
   "metadata": {},
   "outputs": [],
   "source": [
    "import pandas as pd\n",
    "import numpy as np\n",
    "import random\n",
    "from datetime import datetime, date"
   ]
  },
  {
   "cell_type": "code",
   "execution_count": 2,
   "metadata": {},
   "outputs": [],
   "source": [
    "# buys_data = pd.read_csv('yoochoose-data/yoochoose-buys.dat', header=None)\n",
    "# clicks_data = pd.read_csv('yoochoose-data/yoochoose-clicks.dat', header=None)"
   ]
  },
  {
   "cell_type": "code",
   "execution_count": 3,
   "metadata": {},
   "outputs": [],
   "source": [
    "# buys_data.columns = ['session', 'timestamp', 'item', 'price', 'quantity']\n",
    "# clicks_data.columns = ['session', 'timestamp', 'item', 'category']"
   ]
  },
  {
   "cell_type": "markdown",
   "metadata": {},
   "source": [
    "#### CLICKS DATASET FILE DESCRIPTION\n",
    "\n",
    "The file yoochoose-clicks.dat comprising the clicks of the users over the items.\n",
    "Each record/line in the file has the following fields/format: Session ID, Timestamp, Item ID, Category\n",
    "- Session ID – the id of the session. In one session there are one or many clicks. Could be represented as an integer number.\n",
    "- Timestamp – the time when the click occurred. Format of YYYY-MM-DDThh:mm:ss.SSSZ\n",
    "- Item ID – the unique identifier of the item that has been clicked. Could be represented as an integer number.\n",
    "- Category – the context of the click. The value \"S\" indicates a special offer, \"0\" indicates  a missing value, a number between 1 to 12 indicates a real category identifier, any other number indicates a brand.\n",
    " \n",
    " E.g. if an item has been clicked in the context of a promotion or special offer then the value will be \"S\", if the context was a brand i.e BOSCH,\n",
    " then the value will be an 8-10 digits number. If the item has been clicked under regular category, i.e. sport, then the value will be a number between 1 to 12. \n",
    " \n",
    "#### BUYS DATSET FILE DESCRIPTION\n",
    "\n",
    "The file yoochoose-buys.dat comprising the buy events of the users over the items.\n",
    "Each record/line in the file has the following fields: Session ID, Timestamp, Item ID, Price, Quantity\n",
    "\n",
    "- Session ID - the id of the session. In one session there are one or many buying events. Could be represented as an integer number.\n",
    "- Timestamp - the time when the buy occurred. Format of YYYY-MM-DDThh:mm:ss.SSSZ\n",
    "- Item ID – the unique identifier of item that has been bought. Could be represented as an integer number.\n",
    "- Price – the price of the item. Could be represented as an integer number.\n",
    "- Quantity – the quantity in this buying.  Could be represented as an integer number."
   ]
  },
  {
   "cell_type": "code",
   "execution_count": 4,
   "metadata": {},
   "outputs": [],
   "source": [
    "# diff = buys_data['session'].unique()"
   ]
  },
  {
   "cell_type": "code",
   "execution_count": 5,
   "metadata": {},
   "outputs": [],
   "source": [
    "# new_clicks = clicks_data.loc[clicks_data['session'].isin(diff)]"
   ]
  },
  {
   "cell_type": "code",
   "execution_count": 6,
   "metadata": {},
   "outputs": [],
   "source": [
    "# new_clicks.to_pickle('bought.pickle')"
   ]
  },
  {
   "cell_type": "code",
   "execution_count": 7,
   "metadata": {},
   "outputs": [],
   "source": [
    "# not_bought = clicks_data.loc[clicks_data['session'].isin(diff) == False]"
   ]
  },
  {
   "cell_type": "code",
   "execution_count": 8,
   "metadata": {},
   "outputs": [],
   "source": [
    "# not_bought.to_pickle('not_bought.pickle')"
   ]
  },
  {
   "cell_type": "code",
   "execution_count": 9,
   "metadata": {},
   "outputs": [],
   "source": [
    "# not_bought = pd.read_pickle('not_bought.pickle')"
   ]
  },
  {
   "cell_type": "markdown",
   "metadata": {},
   "source": [
    "### -------------------------- *Sampling* --------------------------"
   ]
  },
  {
   "cell_type": "code",
   "execution_count": 10,
   "metadata": {},
   "outputs": [],
   "source": [
    "# rdiff = random.sample(list(diff), 100000)"
   ]
  },
  {
   "cell_type": "code",
   "execution_count": 11,
   "metadata": {},
   "outputs": [],
   "source": [
    "# buys_sample = buys_data[buys_data['session'].isin(rdiff)]\n",
    "# click_bought_sample = new_clicks[new_clicks['session'].isin(rdiff)]\n",
    "# click_not_bought_sample = not_bought[:500000]"
   ]
  },
  {
   "cell_type": "code",
   "execution_count": 12,
   "metadata": {},
   "outputs": [],
   "source": [
    "# buys_sample.to_pickle('sample-buys.pickle')\n",
    "# click_bought_sample.to_pickle('sample-bought.pickle')\n",
    "# click_not_bought_sample.to_pickle('sample-not-bought.pickle')"
   ]
  },
  {
   "cell_type": "code",
   "execution_count": 13,
   "metadata": {},
   "outputs": [],
   "source": [
    "buys = pd.read_pickle('sample-buys.pickle')\n",
    "click_bought = pd.read_pickle('sample-bought.pickle')\n",
    "click_not_bought = pd.read_pickle('sample-not-bought.pickle')"
   ]
  },
  {
   "cell_type": "code",
   "execution_count": 14,
   "metadata": {},
   "outputs": [],
   "source": [
    "time_format = '%H:%M:%S'"
   ]
  },
  {
   "cell_type": "code",
   "execution_count": 15,
   "metadata": {},
   "outputs": [],
   "source": [
    "def read_time_stamp(time):\n",
    "    date,time = time.split('T')\n",
    "    yy, mm, dd = date.split('-')\n",
    "    time = time[:-1]\n",
    "    h, m, s = time.split(':')\n",
    "    return {'dd':dd,\n",
    "            'mm':mm,\n",
    "            'yy':yy,\n",
    "            'h':h,\n",
    "            'm':m,\n",
    "            's':s.split('.')[0],\n",
    "            'date':date,\n",
    "            'time':time.split('.')[0]\n",
    "           }"
   ]
  },
  {
   "cell_type": "code",
   "execution_count": 16,
   "metadata": {},
   "outputs": [],
   "source": [
    "def time_diff_secs(start, end):\n",
    "    tdelta = datetime.strptime(end, time_format) - datetime.strptime(start, time_format)\n",
    "    return tdelta.seconds"
   ]
  },
  {
   "cell_type": "code",
   "execution_count": 17,
   "metadata": {},
   "outputs": [],
   "source": [
    "b_sessions = sorted(list(buys['session'].unique())) # all bought sessions"
   ]
  },
  {
   "cell_type": "code",
   "execution_count": 51,
   "metadata": {},
   "outputs": [],
   "source": [
    "session_data = []"
   ]
  },
  {
   "cell_type": "code",
   "execution_count": 52,
   "metadata": {},
   "outputs": [],
   "source": [
    "for bb in b_sessions[:100]:\n",
    "    bs = buys[buys['session']==bb]\n",
    "    cbs = click_bought[click_bought['session']==bb]\n",
    "    time = []\n",
    "    for tt in cbs['timestamp']:\n",
    "        dct = read_time_stamp(tt)\n",
    "        dow = date(int(dct['yy']),int(dct['mm']),int(dct['dd'])).weekday()\n",
    "        mm = int(dct['mm'])\n",
    "        time.append(dct['time'])\n",
    "    time = sorted(time)\n",
    "    start,end = time[0],time[-1]\n",
    "    td = time_diff_secs(start,end)\n",
    "    #average time\n",
    "    avg = float(\"{0:.2f}\".format(td/len(time),2))\n",
    "    n_clicks = len(time)\n",
    "    try:\n",
    "        max_time = max([time_diff_secs(time[i-1], time[i]) for i in range(1,len(time))])\n",
    "    except:\n",
    "        max_time = 0\n",
    "    noc = len(cbs['category'].unique())\n",
    "    session_data.append([bb, td, avg, max_time, n_clicks, dow, mm, noc])"
   ]
  },
  {
   "cell_type": "code",
   "execution_count": 53,
   "metadata": {},
   "outputs": [],
   "source": [
    "df = pd.DataFrame(session_data)"
   ]
  },
  {
   "cell_type": "code",
   "execution_count": 54,
   "metadata": {},
   "outputs": [],
   "source": [
    "df.columns = ['session', 'total_time', 'avg.time_clicks', 'max_time',\n",
    "              'n_clicks', 'day_of_week', 'month', 'no_of_categories']"
   ]
  },
  {
   "cell_type": "code",
   "execution_count": 55,
   "metadata": {},
   "outputs": [
    {
     "data": {
      "text/html": [
       "<div>\n",
       "<style scoped>\n",
       "    .dataframe tbody tr th:only-of-type {\n",
       "        vertical-align: middle;\n",
       "    }\n",
       "\n",
       "    .dataframe tbody tr th {\n",
       "        vertical-align: top;\n",
       "    }\n",
       "\n",
       "    .dataframe thead th {\n",
       "        text-align: right;\n",
       "    }\n",
       "</style>\n",
       "<table border=\"1\" class=\"dataframe\">\n",
       "  <thead>\n",
       "    <tr style=\"text-align: right;\">\n",
       "      <th></th>\n",
       "      <th>session</th>\n",
       "      <th>total_time</th>\n",
       "      <th>avg.time_clicks</th>\n",
       "      <th>max_time</th>\n",
       "      <th>n_clicks</th>\n",
       "      <th>day_of_week</th>\n",
       "      <th>month</th>\n",
       "      <th>no_of_categories</th>\n",
       "    </tr>\n",
       "  </thead>\n",
       "  <tbody>\n",
       "    <tr>\n",
       "      <th>0</th>\n",
       "      <td>216</td>\n",
       "      <td>47</td>\n",
       "      <td>23.50</td>\n",
       "      <td>47</td>\n",
       "      <td>2</td>\n",
       "      <td>2</td>\n",
       "      <td>4</td>\n",
       "      <td>1</td>\n",
       "    </tr>\n",
       "    <tr>\n",
       "      <th>1</th>\n",
       "      <td>293</td>\n",
       "      <td>295</td>\n",
       "      <td>32.78</td>\n",
       "      <td>145</td>\n",
       "      <td>9</td>\n",
       "      <td>5</td>\n",
       "      <td>4</td>\n",
       "      <td>1</td>\n",
       "    </tr>\n",
       "    <tr>\n",
       "      <th>2</th>\n",
       "      <td>324</td>\n",
       "      <td>1251</td>\n",
       "      <td>96.23</td>\n",
       "      <td>288</td>\n",
       "      <td>13</td>\n",
       "      <td>4</td>\n",
       "      <td>4</td>\n",
       "      <td>1</td>\n",
       "    </tr>\n",
       "    <tr>\n",
       "      <th>3</th>\n",
       "      <td>408</td>\n",
       "      <td>7</td>\n",
       "      <td>3.50</td>\n",
       "      <td>7</td>\n",
       "      <td>2</td>\n",
       "      <td>2</td>\n",
       "      <td>4</td>\n",
       "      <td>1</td>\n",
       "    </tr>\n",
       "    <tr>\n",
       "      <th>4</th>\n",
       "      <td>449</td>\n",
       "      <td>373</td>\n",
       "      <td>31.08</td>\n",
       "      <td>81</td>\n",
       "      <td>12</td>\n",
       "      <td>1</td>\n",
       "      <td>4</td>\n",
       "      <td>1</td>\n",
       "    </tr>\n",
       "    <tr>\n",
       "      <th>5</th>\n",
       "      <td>636</td>\n",
       "      <td>9</td>\n",
       "      <td>4.50</td>\n",
       "      <td>9</td>\n",
       "      <td>2</td>\n",
       "      <td>0</td>\n",
       "      <td>4</td>\n",
       "      <td>1</td>\n",
       "    </tr>\n",
       "    <tr>\n",
       "      <th>6</th>\n",
       "      <td>651</td>\n",
       "      <td>2733</td>\n",
       "      <td>97.61</td>\n",
       "      <td>428</td>\n",
       "      <td>28</td>\n",
       "      <td>1</td>\n",
       "      <td>4</td>\n",
       "      <td>1</td>\n",
       "    </tr>\n",
       "    <tr>\n",
       "      <th>7</th>\n",
       "      <td>664</td>\n",
       "      <td>802</td>\n",
       "      <td>100.25</td>\n",
       "      <td>483</td>\n",
       "      <td>8</td>\n",
       "      <td>4</td>\n",
       "      <td>4</td>\n",
       "      <td>1</td>\n",
       "    </tr>\n",
       "    <tr>\n",
       "      <th>8</th>\n",
       "      <td>692</td>\n",
       "      <td>50</td>\n",
       "      <td>25.00</td>\n",
       "      <td>50</td>\n",
       "      <td>2</td>\n",
       "      <td>3</td>\n",
       "      <td>4</td>\n",
       "      <td>1</td>\n",
       "    </tr>\n",
       "    <tr>\n",
       "      <th>9</th>\n",
       "      <td>728</td>\n",
       "      <td>10</td>\n",
       "      <td>5.00</td>\n",
       "      <td>10</td>\n",
       "      <td>2</td>\n",
       "      <td>0</td>\n",
       "      <td>4</td>\n",
       "      <td>1</td>\n",
       "    </tr>\n",
       "  </tbody>\n",
       "</table>\n",
       "</div>"
      ],
      "text/plain": [
       "   session  total_time  avg.time_clicks  max_time  n_clicks  day_of_week  \\\n",
       "0      216          47            23.50        47         2            2   \n",
       "1      293         295            32.78       145         9            5   \n",
       "2      324        1251            96.23       288        13            4   \n",
       "3      408           7             3.50         7         2            2   \n",
       "4      449         373            31.08        81        12            1   \n",
       "5      636           9             4.50         9         2            0   \n",
       "6      651        2733            97.61       428        28            1   \n",
       "7      664         802           100.25       483         8            4   \n",
       "8      692          50            25.00        50         2            3   \n",
       "9      728          10             5.00        10         2            0   \n",
       "\n",
       "   month  no_of_categories  \n",
       "0      4                 1  \n",
       "1      4                 1  \n",
       "2      4                 1  \n",
       "3      4                 1  \n",
       "4      4                 1  \n",
       "5      4                 1  \n",
       "6      4                 1  \n",
       "7      4                 1  \n",
       "8      4                 1  \n",
       "9      4                 1  "
      ]
     },
     "execution_count": 55,
     "metadata": {},
     "output_type": "execute_result"
    }
   ],
   "source": [
    "df"
   ]
  }
 ],
 "metadata": {
  "kernelspec": {
   "display_name": "Python 3",
   "language": "python",
   "name": "python3"
  },
  "language_info": {
   "codemirror_mode": {
    "name": "ipython",
    "version": 3
   },
   "file_extension": ".py",
   "mimetype": "text/x-python",
   "name": "python",
   "nbconvert_exporter": "python",
   "pygments_lexer": "ipython3",
   "version": "3.7.2"
  }
 },
 "nbformat": 4,
 "nbformat_minor": 2
}
